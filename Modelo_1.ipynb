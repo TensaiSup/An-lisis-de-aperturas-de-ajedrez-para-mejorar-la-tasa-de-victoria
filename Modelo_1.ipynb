{
  "nbformat": 4,
  "nbformat_minor": 0,
  "metadata": {
    "colab": {
      "provenance": []
    },
    "kernelspec": {
      "name": "python3",
      "display_name": "Python 3"
    },
    "language_info": {
      "name": "python"
    }
  },
  "cells": [
    {
      "cell_type": "markdown",
      "source": [
        "Sebastian Colorado Barrientos\n",
        "1152471219"
      ],
      "metadata": {
        "id": "_y43aowmSBNB"
      }
    },
    {
      "cell_type": "code",
      "source": [
        "# Tratamiento de datos\n",
        "# ==============================================================================\n",
        "import numpy as np\n",
        "import pandas as pd\n",
        "\n",
        "# Gráficos\n",
        "# ==============================================================================\n",
        "import matplotlib.pyplot as plt\n",
        "from matplotlib import style\n",
        "import seaborn as sns\n",
        "\n",
        "# Preprocesado y modelado\n",
        "# ==============================================================================\n",
        "from scipy.stats import pearsonr\n",
        "from scipy import stats\n",
        "from sklearn.model_selection import train_test_split\n",
        "from sklearn.model_selection import cross_val_score\n",
        "from sklearn.model_selection import GridSearchCV\n",
        "\n",
        "#Escalar Variables\n",
        "from sklearn.preprocessing import MinMaxScaler\n",
        "\n",
        "\n",
        "import statsmodels.api as sm\n",
        "import math\n",
        "\n",
        "\n",
        "#creación de modelos\n",
        "from sklearn.ensemble import RandomForestClassifier\n",
        "\n",
        "\n",
        "import multiprocessing\n",
        "\n",
        "#evaluacion de variables\n",
        "from sklearn.metrics import confusion_matrix\n",
        "from sklearn.model_selection import ParameterGrid\n",
        "from sklearn.model_selection import RepeatedKFold\n",
        "from sklearn.inspection import permutation_importance\n",
        "from sklearn import metrics\n",
        "\n",
        "#from sklearn.metrics import accuracy_score\n",
        "\n",
        "#from sklearn.model_selection import cross_val_score\n",
        "#from sklearn.model_selection import train_test_split\n",
        "#from sklearn.metrics import classification_report\n",
        "#\n",
        "#from sklearn.model_selection import GridSearchCV\n",
        "\n",
        "#\n",
        "\n",
        "\n",
        "# Configuración warnings\n",
        "# ==============================================================================\n",
        "import warnings\n",
        "warnings.filterwarnings('ignore')"
      ],
      "metadata": {
        "id": "LUFIr7If4631"
      },
      "execution_count": 411,
      "outputs": []
    },
    {
      "cell_type": "code",
      "source": [
        "# Función para contruir un modelo de regresión lineal por medio de statsmodels.api\n",
        "\n",
        "def build_model(X,y):\n",
        "    #A los datos de entrada 'X' se le adiciona una constante\n",
        "    X = sm.add_constant(X)\n",
        "    #Se crea y se entrena el modelo de regresion lineal q(statsmodels.api) con\n",
        "    #los datos de entrada 'X' y los datos de salida 'y'\n",
        "    lm = sm.OLS(y,X).fit()\n",
        "    #imprime el resumen del modelo creado\n",
        "    print(lm.summary()) # model summary\n",
        "    return X"
      ],
      "metadata": {
        "id": "_tFQYeNnB8r2"
      },
      "execution_count": 412,
      "outputs": []
    },
    {
      "cell_type": "code",
      "source": [
        "#Función para calcular VIF (Variance Inflation Factor):\n",
        "\n",
        "#Se Utiliza VIF para solucionar la multicolinealidad. VIF indica el grado de indecencia de esa variable.\n",
        "#Los valores de los umbrales típicos que se suelen utilizar son entre 5 y 10, siendo más exigentes los valores más bajos.\n",
        "\n",
        "def checkVIF(X):\n",
        "    vif = pd.DataFrame()\n",
        "    vif['Features'] = X.columns\n",
        "    vif['VIF'] = [variance_inflation_factor(X.values, i) for i in range(X.shape[1])]\n",
        "    vif['VIF'] = round(vif['VIF'], 2)\n",
        "    vif = vif.sort_values(by = \"VIF\", ascending = False)\n",
        "    return(vif)"
      ],
      "metadata": {
        "id": "FL6IzLYDDBdF"
      },
      "execution_count": 413,
      "outputs": []
    },
    {
      "cell_type": "markdown",
      "source": [
        "Extracción de datos"
      ],
      "metadata": {
        "id": "ba9PSMMd1nKt"
      }
    },
    {
      "cell_type": "code",
      "source": [
        "df = pd.read_csv('games.csv')\n",
        "games_delay_in_sec = (df['last_move_at'] - df['created_at']) / 1000\n",
        "df['duration_in_seconds'] = games_delay_in_sec.copy()\n",
        "df.info()"
      ],
      "metadata": {
        "colab": {
          "base_uri": "https://localhost:8080/"
        },
        "id": "m0VKLBIa49mb",
        "outputId": "0d18152c-31a2-4772-e2ea-300a8d2e09f2"
      },
      "execution_count": 414,
      "outputs": [
        {
          "output_type": "stream",
          "name": "stdout",
          "text": [
            "<class 'pandas.core.frame.DataFrame'>\n",
            "RangeIndex: 20058 entries, 0 to 20057\n",
            "Data columns (total 17 columns):\n",
            " #   Column               Non-Null Count  Dtype  \n",
            "---  ------               --------------  -----  \n",
            " 0   id                   20058 non-null  object \n",
            " 1   rated                20058 non-null  bool   \n",
            " 2   created_at           20058 non-null  float64\n",
            " 3   last_move_at         20058 non-null  float64\n",
            " 4   turns                20058 non-null  int64  \n",
            " 5   victory_status       20058 non-null  object \n",
            " 6   winner               20058 non-null  object \n",
            " 7   increment_code       20058 non-null  object \n",
            " 8   white_id             20058 non-null  object \n",
            " 9   white_rating         20058 non-null  int64  \n",
            " 10  black_id             20058 non-null  object \n",
            " 11  black_rating         20058 non-null  int64  \n",
            " 12  moves                20058 non-null  object \n",
            " 13  opening_eco          20058 non-null  object \n",
            " 14  opening_name         20058 non-null  object \n",
            " 15  opening_ply          20058 non-null  int64  \n",
            " 16  duration_in_seconds  20058 non-null  float64\n",
            "dtypes: bool(1), float64(3), int64(4), object(9)\n",
            "memory usage: 2.5+ MB\n"
          ]
        }
      ]
    },
    {
      "cell_type": "markdown",
      "source": [
        "Limpieza de los datos"
      ],
      "metadata": {
        "id": "ZQev9ik67eOG"
      }
    },
    {
      "cell_type": "code",
      "source": [
        "minutes = df['increment_code'].str.split('+').map(lambda time_control: time_control[0], na_action=None).astype(int)\n",
        "incr_seconds = df['increment_code'].str.split('+').map(lambda time_control: time_control[1], na_action=None).astype(int)\n",
        "\n",
        "df['minutes'] = minutes.copy()\n",
        "df['incr_seconds'] = incr_seconds.copy()"
      ],
      "metadata": {
        "id": "QlzTEFQJtB_C"
      },
      "execution_count": 415,
      "outputs": []
    },
    {
      "cell_type": "code",
      "source": [
        "df['created_at'] = pd.to_datetime(df['created_at'], unit='ms')\n",
        "df['last_move_at'] = pd.to_datetime(df['last_move_at'], unit='ms')"
      ],
      "metadata": {
        "id": "6ICfjRmD5Dr_"
      },
      "execution_count": 416,
      "outputs": []
    },
    {
      "cell_type": "code",
      "source": [
        "max_minutes = df['minutes'].max()\n",
        "max_incr_seconds = df['incr_seconds'].max()\n",
        "mean_moves = df['turns'].mean()\n",
        "duration_threshold_in_hours = (max_minutes + max_incr_seconds / 60 * mean_moves) / 60\n",
        "duration_threshold_in_hours"
      ],
      "metadata": {
        "colab": {
          "base_uri": "https://localhost:8080/"
        },
        "id": "ROn1-0GTtX4h",
        "outputId": "aa529dab-ac07-4917-a329-5e5cf2e2f27f"
      },
      "execution_count": 417,
      "outputs": [
        {
          "output_type": "execute_result",
          "data": {
            "text/plain": [
              "6.0232999302024135"
            ]
          },
          "metadata": {},
          "execution_count": 417
        }
      ]
    },
    {
      "cell_type": "code",
      "source": [
        "df = df[df['turns'] > 3]\n",
        "df = df[df['duration_in_seconds'] < duration_threshold_in_hours * 3600]\n",
        "df.info()"
      ],
      "metadata": {
        "colab": {
          "base_uri": "https://localhost:8080/"
        },
        "id": "k8fRoC7olzVz",
        "outputId": "8fce73a2-0293-4a75-ebdc-3ce26ed4106b"
      },
      "execution_count": 418,
      "outputs": [
        {
          "output_type": "stream",
          "name": "stdout",
          "text": [
            "<class 'pandas.core.frame.DataFrame'>\n",
            "Int64Index: 19766 entries, 0 to 20057\n",
            "Data columns (total 19 columns):\n",
            " #   Column               Non-Null Count  Dtype         \n",
            "---  ------               --------------  -----         \n",
            " 0   id                   19766 non-null  object        \n",
            " 1   rated                19766 non-null  bool          \n",
            " 2   created_at           19766 non-null  datetime64[ns]\n",
            " 3   last_move_at         19766 non-null  datetime64[ns]\n",
            " 4   turns                19766 non-null  int64         \n",
            " 5   victory_status       19766 non-null  object        \n",
            " 6   winner               19766 non-null  object        \n",
            " 7   increment_code       19766 non-null  object        \n",
            " 8   white_id             19766 non-null  object        \n",
            " 9   white_rating         19766 non-null  int64         \n",
            " 10  black_id             19766 non-null  object        \n",
            " 11  black_rating         19766 non-null  int64         \n",
            " 12  moves                19766 non-null  object        \n",
            " 13  opening_eco          19766 non-null  object        \n",
            " 14  opening_name         19766 non-null  object        \n",
            " 15  opening_ply          19766 non-null  int64         \n",
            " 16  duration_in_seconds  19766 non-null  float64       \n",
            " 17  minutes              19766 non-null  int64         \n",
            " 18  incr_seconds         19766 non-null  int64         \n",
            "dtypes: bool(1), datetime64[ns](2), float64(1), int64(6), object(9)\n",
            "memory usage: 2.9+ MB\n"
          ]
        }
      ]
    },
    {
      "cell_type": "code",
      "source": [
        "duration0 = df[df['duration_in_seconds'] == 0]\n",
        "duration0['winner'].value_counts()"
      ],
      "metadata": {
        "colab": {
          "base_uri": "https://localhost:8080/"
        },
        "id": "AlDtwjE-twzm",
        "outputId": "a363e019-dc8e-4770-ccc0-a7102c06c5ea"
      },
      "execution_count": 419,
      "outputs": [
        {
          "output_type": "execute_result",
          "data": {
            "text/plain": [
              "white    4207\n",
              "black    3910\n",
              "draw      355\n",
              "Name: winner, dtype: int64"
            ]
          },
          "metadata": {},
          "execution_count": 419
        }
      ]
    },
    {
      "cell_type": "code",
      "source": [
        "df = df[df['duration_in_seconds'] > 0]"
      ],
      "metadata": {
        "id": "P-bAOV7Vt21k"
      },
      "execution_count": 420,
      "outputs": []
    },
    {
      "cell_type": "code",
      "source": [
        "df.info()"
      ],
      "metadata": {
        "colab": {
          "base_uri": "https://localhost:8080/"
        },
        "id": "k6s_TP3buaie",
        "outputId": "0d16304e-1105-4c41-b2bf-08875554a4b2"
      },
      "execution_count": 421,
      "outputs": [
        {
          "output_type": "stream",
          "name": "stdout",
          "text": [
            "<class 'pandas.core.frame.DataFrame'>\n",
            "Int64Index: 11294 entries, 14 to 20057\n",
            "Data columns (total 19 columns):\n",
            " #   Column               Non-Null Count  Dtype         \n",
            "---  ------               --------------  -----         \n",
            " 0   id                   11294 non-null  object        \n",
            " 1   rated                11294 non-null  bool          \n",
            " 2   created_at           11294 non-null  datetime64[ns]\n",
            " 3   last_move_at         11294 non-null  datetime64[ns]\n",
            " 4   turns                11294 non-null  int64         \n",
            " 5   victory_status       11294 non-null  object        \n",
            " 6   winner               11294 non-null  object        \n",
            " 7   increment_code       11294 non-null  object        \n",
            " 8   white_id             11294 non-null  object        \n",
            " 9   white_rating         11294 non-null  int64         \n",
            " 10  black_id             11294 non-null  object        \n",
            " 11  black_rating         11294 non-null  int64         \n",
            " 12  moves                11294 non-null  object        \n",
            " 13  opening_eco          11294 non-null  object        \n",
            " 14  opening_name         11294 non-null  object        \n",
            " 15  opening_ply          11294 non-null  int64         \n",
            " 16  duration_in_seconds  11294 non-null  float64       \n",
            " 17  minutes              11294 non-null  int64         \n",
            " 18  incr_seconds         11294 non-null  int64         \n",
            "dtypes: bool(1), datetime64[ns](2), float64(1), int64(6), object(9)\n",
            "memory usage: 1.6+ MB\n"
          ]
        }
      ]
    },
    {
      "cell_type": "code",
      "source": [
        "df['winner'].unique()"
      ],
      "metadata": {
        "colab": {
          "base_uri": "https://localhost:8080/"
        },
        "id": "T6kJm6tAm3C7",
        "outputId": "d85f11d8-c16a-400e-cec3-123e9a6bfc55"
      },
      "execution_count": 422,
      "outputs": [
        {
          "output_type": "execute_result",
          "data": {
            "text/plain": [
              "array(['white', 'black', 'draw'], dtype=object)"
            ]
          },
          "metadata": {},
          "execution_count": 422
        }
      ]
    },
    {
      "cell_type": "code",
      "source": [
        "df['winner'].value_counts()"
      ],
      "metadata": {
        "colab": {
          "base_uri": "https://localhost:8080/"
        },
        "id": "XjquEH9vvpIR",
        "outputId": "9af808be-a55e-4d9d-cbcd-f4ac2a6a1e94"
      },
      "execution_count": 423,
      "outputs": [
        {
          "output_type": "execute_result",
          "data": {
            "text/plain": [
              "white    5639\n",
              "black    5074\n",
              "draw      581\n",
              "Name: winner, dtype: int64"
            ]
          },
          "metadata": {},
          "execution_count": 423
        }
      ]
    },
    {
      "cell_type": "code",
      "source": [
        "df['opening_eco'].value_counts()"
      ],
      "metadata": {
        "colab": {
          "base_uri": "https://localhost:8080/"
        },
        "id": "s5RcF9GEu-wT",
        "outputId": "56c302d5-9438-4623-aa8e-946565979b60"
      },
      "execution_count": 424,
      "outputs": [
        {
          "output_type": "execute_result",
          "data": {
            "text/plain": [
              "A00    537\n",
              "C00    457\n",
              "C41    411\n",
              "D00    386\n",
              "A40    346\n",
              "      ... \n",
              "B60      1\n",
              "A65      1\n",
              "E72      1\n",
              "C09      1\n",
              "D19      1\n",
              "Name: opening_eco, Length: 344, dtype: int64"
            ]
          },
          "metadata": {},
          "execution_count": 424
        }
      ]
    },
    {
      "cell_type": "code",
      "source": [
        "frecuencia_aperturas = df['opening_eco'].value_counts()\n",
        "aperturas_frecuentes = frecuencia_aperturas[frecuencia_aperturas > 100].index\n",
        "df = df[df['opening_eco'].isin(aperturas_frecuentes)]"
      ],
      "metadata": {
        "id": "f9JL3IRY0TU2"
      },
      "execution_count": 425,
      "outputs": []
    },
    {
      "cell_type": "code",
      "source": [
        "df['opening_eco'].value_counts()"
      ],
      "metadata": {
        "colab": {
          "base_uri": "https://localhost:8080/"
        },
        "id": "EAEmjUHj0jBa",
        "outputId": "ef5c108b-8abd-463e-b1c9-31d54e2d26eb"
      },
      "execution_count": 426,
      "outputs": [
        {
          "output_type": "execute_result",
          "data": {
            "text/plain": [
              "A00    537\n",
              "C00    457\n",
              "C41    411\n",
              "D00    386\n",
              "A40    346\n",
              "C20    336\n",
              "B01    331\n",
              "C50    330\n",
              "B20    309\n",
              "B00    292\n",
              "C40    238\n",
              "D02    236\n",
              "C44    208\n",
              "C42    190\n",
              "C55    182\n",
              "B07    176\n",
              "C45    175\n",
              "C02    161\n",
              "A04    156\n",
              "A45    155\n",
              "B50    139\n",
              "C46    133\n",
              "D20    130\n",
              "B21    125\n",
              "B10    122\n",
              "B12    119\n",
              "B30    117\n",
              "C21    108\n",
              "B06    103\n",
              "Name: opening_eco, dtype: int64"
            ]
          },
          "metadata": {},
          "execution_count": 426
        }
      ]
    },
    {
      "cell_type": "code",
      "source": [
        "df = df[df['winner'] != 'draw']"
      ],
      "metadata": {
        "id": "zfZBLZyp5qsw"
      },
      "execution_count": 427,
      "outputs": []
    },
    {
      "cell_type": "code",
      "source": [
        "df.info()"
      ],
      "metadata": {
        "colab": {
          "base_uri": "https://localhost:8080/"
        },
        "id": "rNSw3SEY0oat",
        "outputId": "09d9df40-8744-4a7a-edb7-dd325c1f468a"
      },
      "execution_count": 428,
      "outputs": [
        {
          "output_type": "stream",
          "name": "stdout",
          "text": [
            "<class 'pandas.core.frame.DataFrame'>\n",
            "Int64Index: 6406 entries, 14 to 20057\n",
            "Data columns (total 19 columns):\n",
            " #   Column               Non-Null Count  Dtype         \n",
            "---  ------               --------------  -----         \n",
            " 0   id                   6406 non-null   object        \n",
            " 1   rated                6406 non-null   bool          \n",
            " 2   created_at           6406 non-null   datetime64[ns]\n",
            " 3   last_move_at         6406 non-null   datetime64[ns]\n",
            " 4   turns                6406 non-null   int64         \n",
            " 5   victory_status       6406 non-null   object        \n",
            " 6   winner               6406 non-null   object        \n",
            " 7   increment_code       6406 non-null   object        \n",
            " 8   white_id             6406 non-null   object        \n",
            " 9   white_rating         6406 non-null   int64         \n",
            " 10  black_id             6406 non-null   object        \n",
            " 11  black_rating         6406 non-null   int64         \n",
            " 12  moves                6406 non-null   object        \n",
            " 13  opening_eco          6406 non-null   object        \n",
            " 14  opening_name         6406 non-null   object        \n",
            " 15  opening_ply          6406 non-null   int64         \n",
            " 16  duration_in_seconds  6406 non-null   float64       \n",
            " 17  minutes              6406 non-null   int64         \n",
            " 18  incr_seconds         6406 non-null   int64         \n",
            "dtypes: bool(1), datetime64[ns](2), float64(1), int64(6), object(9)\n",
            "memory usage: 957.1+ KB\n"
          ]
        }
      ]
    },
    {
      "cell_type": "code",
      "source": [
        "df = pd.get_dummies(df, columns=['opening_eco'])"
      ],
      "metadata": {
        "id": "IgRJzD43-TwS"
      },
      "execution_count": 429,
      "outputs": []
    },
    {
      "cell_type": "code",
      "source": [
        "df = pd.get_dummies(df, columns=['victory_status'])"
      ],
      "metadata": {
        "id": "sfsYVxyl-cEo"
      },
      "execution_count": 430,
      "outputs": []
    },
    {
      "cell_type": "code",
      "source": [
        "df = df.drop('id', axis=1)\n",
        "df = df.drop('rated', axis=1)\n",
        "df = df.drop('created_at', axis=1)\n",
        "df = df.drop('last_move_at', axis=1)\n",
        "df = df.drop('increment_code', axis=1)\n",
        "df = df.drop('white_id', axis=1)\n",
        "df = df.drop('black_id', axis=1)\n",
        "df = df.drop('moves', axis=1)\n",
        "df = df.drop('opening_name', axis=1)\n",
        "df = df.drop('minutes', axis=1)\n",
        "df = df.drop('incr_seconds', axis=1)\n",
        "df = df.drop('duration_in_seconds', axis=1)"
      ],
      "metadata": {
        "id": "MhFw7gI1xXj2"
      },
      "execution_count": 431,
      "outputs": []
    },
    {
      "cell_type": "code",
      "source": [
        "df.info()"
      ],
      "metadata": {
        "colab": {
          "base_uri": "https://localhost:8080/"
        },
        "id": "uA6TPRRc-Z25",
        "outputId": "e4de1997-d4f1-4efb-d7c5-0fb51c796197"
      },
      "execution_count": 432,
      "outputs": [
        {
          "output_type": "stream",
          "name": "stdout",
          "text": [
            "<class 'pandas.core.frame.DataFrame'>\n",
            "Int64Index: 6406 entries, 14 to 20057\n",
            "Data columns (total 37 columns):\n",
            " #   Column                    Non-Null Count  Dtype \n",
            "---  ------                    --------------  ----- \n",
            " 0   turns                     6406 non-null   int64 \n",
            " 1   winner                    6406 non-null   object\n",
            " 2   white_rating              6406 non-null   int64 \n",
            " 3   black_rating              6406 non-null   int64 \n",
            " 4   opening_ply               6406 non-null   int64 \n",
            " 5   opening_eco_A00           6406 non-null   uint8 \n",
            " 6   opening_eco_A04           6406 non-null   uint8 \n",
            " 7   opening_eco_A40           6406 non-null   uint8 \n",
            " 8   opening_eco_A45           6406 non-null   uint8 \n",
            " 9   opening_eco_B00           6406 non-null   uint8 \n",
            " 10  opening_eco_B01           6406 non-null   uint8 \n",
            " 11  opening_eco_B06           6406 non-null   uint8 \n",
            " 12  opening_eco_B07           6406 non-null   uint8 \n",
            " 13  opening_eco_B10           6406 non-null   uint8 \n",
            " 14  opening_eco_B12           6406 non-null   uint8 \n",
            " 15  opening_eco_B20           6406 non-null   uint8 \n",
            " 16  opening_eco_B21           6406 non-null   uint8 \n",
            " 17  opening_eco_B30           6406 non-null   uint8 \n",
            " 18  opening_eco_B50           6406 non-null   uint8 \n",
            " 19  opening_eco_C00           6406 non-null   uint8 \n",
            " 20  opening_eco_C02           6406 non-null   uint8 \n",
            " 21  opening_eco_C20           6406 non-null   uint8 \n",
            " 22  opening_eco_C21           6406 non-null   uint8 \n",
            " 23  opening_eco_C40           6406 non-null   uint8 \n",
            " 24  opening_eco_C41           6406 non-null   uint8 \n",
            " 25  opening_eco_C42           6406 non-null   uint8 \n",
            " 26  opening_eco_C44           6406 non-null   uint8 \n",
            " 27  opening_eco_C45           6406 non-null   uint8 \n",
            " 28  opening_eco_C46           6406 non-null   uint8 \n",
            " 29  opening_eco_C50           6406 non-null   uint8 \n",
            " 30  opening_eco_C55           6406 non-null   uint8 \n",
            " 31  opening_eco_D00           6406 non-null   uint8 \n",
            " 32  opening_eco_D02           6406 non-null   uint8 \n",
            " 33  opening_eco_D20           6406 non-null   uint8 \n",
            " 34  victory_status_mate       6406 non-null   uint8 \n",
            " 35  victory_status_outoftime  6406 non-null   uint8 \n",
            " 36  victory_status_resign     6406 non-null   uint8 \n",
            "dtypes: int64(4), object(1), uint8(32)\n",
            "memory usage: 500.5+ KB\n"
          ]
        }
      ]
    },
    {
      "cell_type": "code",
      "source": [
        "X = df.drop('winner', axis=1)\n",
        "y = df['winner']\n",
        "X_train, X_test, y_train, y_test  = train_test_split(X, y, test_size=0.8)"
      ],
      "metadata": {
        "id": "TzGtRSb_xYo-"
      },
      "execution_count": 433,
      "outputs": []
    },
    {
      "cell_type": "code",
      "source": [
        "X_train.shape, X_test.shape, y_train.shape, y_test.shape"
      ],
      "metadata": {
        "colab": {
          "base_uri": "https://localhost:8080/"
        },
        "id": "WI1mdToT_9Pl",
        "outputId": "63161a24-983d-4744-c7e4-a8a4d65b9916"
      },
      "execution_count": 434,
      "outputs": [
        {
          "output_type": "execute_result",
          "data": {
            "text/plain": [
              "((1281, 36), (5125, 36), (1281,), (5125,))"
            ]
          },
          "metadata": {},
          "execution_count": 434
        }
      ]
    },
    {
      "cell_type": "code",
      "source": [
        "# Grid de hiperparámetros evaluados\n",
        "# ==============================================================================\n",
        "param_grid = ParameterGrid(\n",
        "                {'n_estimators': [200],\n",
        "                 'max_features': [9,11,13,15],\n",
        "                 'max_depth'   : [None, 3, 10, 20, 40],\n",
        "                 'criterion'   : ['gini', 'entropy']\n",
        "                }\n",
        "            )\n",
        "\n",
        "# Loop para ajustar un modelo con cada combinación de hiperparámetros\n",
        "# ==============================================================================\n",
        "resultados = {'params': [], 'oob_accuracy': []}\n",
        "\n",
        "for params in param_grid:\n",
        "\n",
        "\n",
        "    modelo = RandomForestClassifier(\n",
        "                oob_score    = True,\n",
        "                n_jobs       = -1,\n",
        "                random_state = 123,\n",
        "                ** params\n",
        "             )\n",
        "\n",
        "    modelo.fit(X_train, y_train)\n",
        "\n",
        "\n",
        "    resultados['params'].append(params)\n",
        "    resultados['oob_accuracy'].append(modelo.oob_score_)\n",
        "    print(f\"Modelo: {params} \\u2713\")\n",
        "\n",
        "# Resultados\n",
        "# ==============================================================================\n",
        "resultados = pd.DataFrame(resultados)\n",
        "resultados = pd.concat([resultados, resultados['params'].apply(pd.Series)], axis=1)\n",
        "resultados = resultados.sort_values('oob_accuracy', ascending=False)\n",
        "resultados = resultados.drop(columns = 'params')"
      ],
      "metadata": {
        "colab": {
          "base_uri": "https://localhost:8080/"
        },
        "id": "b_akQb5KADg0",
        "outputId": "c272d69f-800d-4710-fd09-ec9dd1b3eabb"
      },
      "execution_count": 435,
      "outputs": [
        {
          "output_type": "stream",
          "name": "stdout",
          "text": [
            "Modelo: {'criterion': 'gini', 'max_depth': None, 'max_features': 9, 'n_estimators': 200} ✓\n",
            "Modelo: {'criterion': 'gini', 'max_depth': None, 'max_features': 11, 'n_estimators': 200} ✓\n",
            "Modelo: {'criterion': 'gini', 'max_depth': None, 'max_features': 13, 'n_estimators': 200} ✓\n",
            "Modelo: {'criterion': 'gini', 'max_depth': None, 'max_features': 15, 'n_estimators': 200} ✓\n",
            "Modelo: {'criterion': 'gini', 'max_depth': 3, 'max_features': 9, 'n_estimators': 200} ✓\n",
            "Modelo: {'criterion': 'gini', 'max_depth': 3, 'max_features': 11, 'n_estimators': 200} ✓\n",
            "Modelo: {'criterion': 'gini', 'max_depth': 3, 'max_features': 13, 'n_estimators': 200} ✓\n",
            "Modelo: {'criterion': 'gini', 'max_depth': 3, 'max_features': 15, 'n_estimators': 200} ✓\n",
            "Modelo: {'criterion': 'gini', 'max_depth': 10, 'max_features': 9, 'n_estimators': 200} ✓\n",
            "Modelo: {'criterion': 'gini', 'max_depth': 10, 'max_features': 11, 'n_estimators': 200} ✓\n",
            "Modelo: {'criterion': 'gini', 'max_depth': 10, 'max_features': 13, 'n_estimators': 200} ✓\n",
            "Modelo: {'criterion': 'gini', 'max_depth': 10, 'max_features': 15, 'n_estimators': 200} ✓\n",
            "Modelo: {'criterion': 'gini', 'max_depth': 20, 'max_features': 9, 'n_estimators': 200} ✓\n",
            "Modelo: {'criterion': 'gini', 'max_depth': 20, 'max_features': 11, 'n_estimators': 200} ✓\n",
            "Modelo: {'criterion': 'gini', 'max_depth': 20, 'max_features': 13, 'n_estimators': 200} ✓\n",
            "Modelo: {'criterion': 'gini', 'max_depth': 20, 'max_features': 15, 'n_estimators': 200} ✓\n",
            "Modelo: {'criterion': 'gini', 'max_depth': 40, 'max_features': 9, 'n_estimators': 200} ✓\n",
            "Modelo: {'criterion': 'gini', 'max_depth': 40, 'max_features': 11, 'n_estimators': 200} ✓\n",
            "Modelo: {'criterion': 'gini', 'max_depth': 40, 'max_features': 13, 'n_estimators': 200} ✓\n",
            "Modelo: {'criterion': 'gini', 'max_depth': 40, 'max_features': 15, 'n_estimators': 200} ✓\n",
            "Modelo: {'criterion': 'entropy', 'max_depth': None, 'max_features': 9, 'n_estimators': 200} ✓\n",
            "Modelo: {'criterion': 'entropy', 'max_depth': None, 'max_features': 11, 'n_estimators': 200} ✓\n",
            "Modelo: {'criterion': 'entropy', 'max_depth': None, 'max_features': 13, 'n_estimators': 200} ✓\n",
            "Modelo: {'criterion': 'entropy', 'max_depth': None, 'max_features': 15, 'n_estimators': 200} ✓\n",
            "Modelo: {'criterion': 'entropy', 'max_depth': 3, 'max_features': 9, 'n_estimators': 200} ✓\n",
            "Modelo: {'criterion': 'entropy', 'max_depth': 3, 'max_features': 11, 'n_estimators': 200} ✓\n",
            "Modelo: {'criterion': 'entropy', 'max_depth': 3, 'max_features': 13, 'n_estimators': 200} ✓\n",
            "Modelo: {'criterion': 'entropy', 'max_depth': 3, 'max_features': 15, 'n_estimators': 200} ✓\n",
            "Modelo: {'criterion': 'entropy', 'max_depth': 10, 'max_features': 9, 'n_estimators': 200} ✓\n",
            "Modelo: {'criterion': 'entropy', 'max_depth': 10, 'max_features': 11, 'n_estimators': 200} ✓\n",
            "Modelo: {'criterion': 'entropy', 'max_depth': 10, 'max_features': 13, 'n_estimators': 200} ✓\n",
            "Modelo: {'criterion': 'entropy', 'max_depth': 10, 'max_features': 15, 'n_estimators': 200} ✓\n",
            "Modelo: {'criterion': 'entropy', 'max_depth': 20, 'max_features': 9, 'n_estimators': 200} ✓\n",
            "Modelo: {'criterion': 'entropy', 'max_depth': 20, 'max_features': 11, 'n_estimators': 200} ✓\n",
            "Modelo: {'criterion': 'entropy', 'max_depth': 20, 'max_features': 13, 'n_estimators': 200} ✓\n",
            "Modelo: {'criterion': 'entropy', 'max_depth': 20, 'max_features': 15, 'n_estimators': 200} ✓\n",
            "Modelo: {'criterion': 'entropy', 'max_depth': 40, 'max_features': 9, 'n_estimators': 200} ✓\n",
            "Modelo: {'criterion': 'entropy', 'max_depth': 40, 'max_features': 11, 'n_estimators': 200} ✓\n",
            "Modelo: {'criterion': 'entropy', 'max_depth': 40, 'max_features': 13, 'n_estimators': 200} ✓\n",
            "Modelo: {'criterion': 'entropy', 'max_depth': 40, 'max_features': 15, 'n_estimators': 200} ✓\n"
          ]
        }
      ]
    },
    {
      "cell_type": "code",
      "source": [
        "resultados.head()"
      ],
      "metadata": {
        "colab": {
          "base_uri": "https://localhost:8080/",
          "height": 206
        },
        "id": "PdY4ggMtBHhb",
        "outputId": "9213e1f7-e2cc-4f32-c837-ad8da1f87e19"
      },
      "execution_count": 436,
      "outputs": [
        {
          "output_type": "execute_result",
          "data": {
            "text/plain": [
              "    oob_accuracy criterion  max_depth  max_features  n_estimators\n",
              "37      0.645589   entropy       40.0            11           200\n",
              "39      0.644028   entropy       40.0            15           200\n",
              "10      0.644028      gini       10.0            13           200\n",
              "23      0.643247   entropy        NaN            15           200\n",
              "33      0.641686   entropy       20.0            11           200"
            ],
            "text/html": [
              "\n",
              "  <div id=\"df-b6614ceb-d29b-484f-8efc-50081a0a95d0\">\n",
              "    <div class=\"colab-df-container\">\n",
              "      <div>\n",
              "<style scoped>\n",
              "    .dataframe tbody tr th:only-of-type {\n",
              "        vertical-align: middle;\n",
              "    }\n",
              "\n",
              "    .dataframe tbody tr th {\n",
              "        vertical-align: top;\n",
              "    }\n",
              "\n",
              "    .dataframe thead th {\n",
              "        text-align: right;\n",
              "    }\n",
              "</style>\n",
              "<table border=\"1\" class=\"dataframe\">\n",
              "  <thead>\n",
              "    <tr style=\"text-align: right;\">\n",
              "      <th></th>\n",
              "      <th>oob_accuracy</th>\n",
              "      <th>criterion</th>\n",
              "      <th>max_depth</th>\n",
              "      <th>max_features</th>\n",
              "      <th>n_estimators</th>\n",
              "    </tr>\n",
              "  </thead>\n",
              "  <tbody>\n",
              "    <tr>\n",
              "      <th>37</th>\n",
              "      <td>0.645589</td>\n",
              "      <td>entropy</td>\n",
              "      <td>40.0</td>\n",
              "      <td>11</td>\n",
              "      <td>200</td>\n",
              "    </tr>\n",
              "    <tr>\n",
              "      <th>39</th>\n",
              "      <td>0.644028</td>\n",
              "      <td>entropy</td>\n",
              "      <td>40.0</td>\n",
              "      <td>15</td>\n",
              "      <td>200</td>\n",
              "    </tr>\n",
              "    <tr>\n",
              "      <th>10</th>\n",
              "      <td>0.644028</td>\n",
              "      <td>gini</td>\n",
              "      <td>10.0</td>\n",
              "      <td>13</td>\n",
              "      <td>200</td>\n",
              "    </tr>\n",
              "    <tr>\n",
              "      <th>23</th>\n",
              "      <td>0.643247</td>\n",
              "      <td>entropy</td>\n",
              "      <td>NaN</td>\n",
              "      <td>15</td>\n",
              "      <td>200</td>\n",
              "    </tr>\n",
              "    <tr>\n",
              "      <th>33</th>\n",
              "      <td>0.641686</td>\n",
              "      <td>entropy</td>\n",
              "      <td>20.0</td>\n",
              "      <td>11</td>\n",
              "      <td>200</td>\n",
              "    </tr>\n",
              "  </tbody>\n",
              "</table>\n",
              "</div>\n",
              "      <button class=\"colab-df-convert\" onclick=\"convertToInteractive('df-b6614ceb-d29b-484f-8efc-50081a0a95d0')\"\n",
              "              title=\"Convert this dataframe to an interactive table.\"\n",
              "              style=\"display:none;\">\n",
              "        \n",
              "  <svg xmlns=\"http://www.w3.org/2000/svg\" height=\"24px\"viewBox=\"0 0 24 24\"\n",
              "       width=\"24px\">\n",
              "    <path d=\"M0 0h24v24H0V0z\" fill=\"none\"/>\n",
              "    <path d=\"M18.56 5.44l.94 2.06.94-2.06 2.06-.94-2.06-.94-.94-2.06-.94 2.06-2.06.94zm-11 1L8.5 8.5l.94-2.06 2.06-.94-2.06-.94L8.5 2.5l-.94 2.06-2.06.94zm10 10l.94 2.06.94-2.06 2.06-.94-2.06-.94-.94-2.06-.94 2.06-2.06.94z\"/><path d=\"M17.41 7.96l-1.37-1.37c-.4-.4-.92-.59-1.43-.59-.52 0-1.04.2-1.43.59L10.3 9.45l-7.72 7.72c-.78.78-.78 2.05 0 2.83L4 21.41c.39.39.9.59 1.41.59.51 0 1.02-.2 1.41-.59l7.78-7.78 2.81-2.81c.8-.78.8-2.07 0-2.86zM5.41 20L4 18.59l7.72-7.72 1.47 1.35L5.41 20z\"/>\n",
              "  </svg>\n",
              "      </button>\n",
              "      \n",
              "  <style>\n",
              "    .colab-df-container {\n",
              "      display:flex;\n",
              "      flex-wrap:wrap;\n",
              "      gap: 12px;\n",
              "    }\n",
              "\n",
              "    .colab-df-convert {\n",
              "      background-color: #E8F0FE;\n",
              "      border: none;\n",
              "      border-radius: 50%;\n",
              "      cursor: pointer;\n",
              "      display: none;\n",
              "      fill: #1967D2;\n",
              "      height: 32px;\n",
              "      padding: 0 0 0 0;\n",
              "      width: 32px;\n",
              "    }\n",
              "\n",
              "    .colab-df-convert:hover {\n",
              "      background-color: #E2EBFA;\n",
              "      box-shadow: 0px 1px 2px rgba(60, 64, 67, 0.3), 0px 1px 3px 1px rgba(60, 64, 67, 0.15);\n",
              "      fill: #174EA6;\n",
              "    }\n",
              "\n",
              "    [theme=dark] .colab-df-convert {\n",
              "      background-color: #3B4455;\n",
              "      fill: #D2E3FC;\n",
              "    }\n",
              "\n",
              "    [theme=dark] .colab-df-convert:hover {\n",
              "      background-color: #434B5C;\n",
              "      box-shadow: 0px 1px 3px 1px rgba(0, 0, 0, 0.15);\n",
              "      filter: drop-shadow(0px 1px 2px rgba(0, 0, 0, 0.3));\n",
              "      fill: #FFFFFF;\n",
              "    }\n",
              "  </style>\n",
              "\n",
              "      <script>\n",
              "        const buttonEl =\n",
              "          document.querySelector('#df-b6614ceb-d29b-484f-8efc-50081a0a95d0 button.colab-df-convert');\n",
              "        buttonEl.style.display =\n",
              "          google.colab.kernel.accessAllowed ? 'block' : 'none';\n",
              "\n",
              "        async function convertToInteractive(key) {\n",
              "          const element = document.querySelector('#df-b6614ceb-d29b-484f-8efc-50081a0a95d0');\n",
              "          const dataTable =\n",
              "            await google.colab.kernel.invokeFunction('convertToInteractive',\n",
              "                                                     [key], {});\n",
              "          if (!dataTable) return;\n",
              "\n",
              "          const docLinkHtml = 'Like what you see? Visit the ' +\n",
              "            '<a target=\"_blank\" href=https://colab.research.google.com/notebooks/data_table.ipynb>data table notebook</a>'\n",
              "            + ' to learn more about interactive tables.';\n",
              "          element.innerHTML = '';\n",
              "          dataTable['output_type'] = 'display_data';\n",
              "          await google.colab.output.renderOutput(dataTable, element);\n",
              "          const docLink = document.createElement('div');\n",
              "          docLink.innerHTML = docLinkHtml;\n",
              "          element.appendChild(docLink);\n",
              "        }\n",
              "      </script>\n",
              "    </div>\n",
              "  </div>\n",
              "  "
            ]
          },
          "metadata": {},
          "execution_count": 436
        }
      ]
    },
    {
      "cell_type": "code",
      "source": [
        "# Grid de hiperparámetros evaluados\n",
        "# ==============================================================================\n",
        "param_grid = {'n_estimators': [200],\n",
        "                 'max_features': [9,11,13,15],\n",
        "                 'max_depth'   : [None, 3, 10, 20, 40],\n",
        "              'criterion'   : ['gini', 'entropy']\n",
        "             }\n",
        "\n",
        "# Búsqueda por grid search con validación cruzada\n",
        "# ==============================================================================\n",
        "grid = GridSearchCV(\n",
        "        estimator  = RandomForestClassifier(random_state = 123),\n",
        "        param_grid = param_grid,\n",
        "        scoring    = 'accuracy',\n",
        "        n_jobs     = - 1,\n",
        "        refit      = True,\n",
        "        verbose    = 0,\n",
        "        return_train_score = True\n",
        "       )\n",
        "\n",
        "grid.fit(X = X_train, y = y_train)\n",
        "\n",
        "# Resultados\n",
        "# ==============================================================================\n",
        "resultados = pd.DataFrame(grid.cv_results_)\n",
        "resultados.filter(regex = '(param*|mean_t|std_t)') \\\n",
        "    .drop(columns = 'params') \\\n",
        "    .sort_values('mean_test_score', ascending = False) \\\n",
        "    .head(4)"
      ],
      "metadata": {
        "colab": {
          "base_uri": "https://localhost:8080/",
          "height": 219
        },
        "id": "vbelwYMhBMXa",
        "outputId": "a94b59c1-774e-4858-ac0c-8c5eb6d64db4"
      },
      "execution_count": 437,
      "outputs": [
        {
          "output_type": "execute_result",
          "data": {
            "text/plain": [
              "   param_criterion param_max_depth param_max_features param_n_estimators  \\\n",
              "21         entropy            None                 11                200   \n",
              "37         entropy              40                 11                200   \n",
              "30         entropy              10                 13                200   \n",
              "31         entropy              10                 15                200   \n",
              "\n",
              "    mean_test_score  std_test_score  mean_train_score  std_train_score  \n",
              "21         0.644036        0.021879          1.000000         0.000000  \n",
              "37         0.643254        0.021637          1.000000         0.000000  \n",
              "30         0.643227        0.024427          0.915691         0.005538  \n",
              "31         0.642461        0.023594          0.922716         0.005077  "
            ],
            "text/html": [
              "\n",
              "  <div id=\"df-77fbf9dc-b424-40a4-b355-4507d44d0f37\">\n",
              "    <div class=\"colab-df-container\">\n",
              "      <div>\n",
              "<style scoped>\n",
              "    .dataframe tbody tr th:only-of-type {\n",
              "        vertical-align: middle;\n",
              "    }\n",
              "\n",
              "    .dataframe tbody tr th {\n",
              "        vertical-align: top;\n",
              "    }\n",
              "\n",
              "    .dataframe thead th {\n",
              "        text-align: right;\n",
              "    }\n",
              "</style>\n",
              "<table border=\"1\" class=\"dataframe\">\n",
              "  <thead>\n",
              "    <tr style=\"text-align: right;\">\n",
              "      <th></th>\n",
              "      <th>param_criterion</th>\n",
              "      <th>param_max_depth</th>\n",
              "      <th>param_max_features</th>\n",
              "      <th>param_n_estimators</th>\n",
              "      <th>mean_test_score</th>\n",
              "      <th>std_test_score</th>\n",
              "      <th>mean_train_score</th>\n",
              "      <th>std_train_score</th>\n",
              "    </tr>\n",
              "  </thead>\n",
              "  <tbody>\n",
              "    <tr>\n",
              "      <th>21</th>\n",
              "      <td>entropy</td>\n",
              "      <td>None</td>\n",
              "      <td>11</td>\n",
              "      <td>200</td>\n",
              "      <td>0.644036</td>\n",
              "      <td>0.021879</td>\n",
              "      <td>1.000000</td>\n",
              "      <td>0.000000</td>\n",
              "    </tr>\n",
              "    <tr>\n",
              "      <th>37</th>\n",
              "      <td>entropy</td>\n",
              "      <td>40</td>\n",
              "      <td>11</td>\n",
              "      <td>200</td>\n",
              "      <td>0.643254</td>\n",
              "      <td>0.021637</td>\n",
              "      <td>1.000000</td>\n",
              "      <td>0.000000</td>\n",
              "    </tr>\n",
              "    <tr>\n",
              "      <th>30</th>\n",
              "      <td>entropy</td>\n",
              "      <td>10</td>\n",
              "      <td>13</td>\n",
              "      <td>200</td>\n",
              "      <td>0.643227</td>\n",
              "      <td>0.024427</td>\n",
              "      <td>0.915691</td>\n",
              "      <td>0.005538</td>\n",
              "    </tr>\n",
              "    <tr>\n",
              "      <th>31</th>\n",
              "      <td>entropy</td>\n",
              "      <td>10</td>\n",
              "      <td>15</td>\n",
              "      <td>200</td>\n",
              "      <td>0.642461</td>\n",
              "      <td>0.023594</td>\n",
              "      <td>0.922716</td>\n",
              "      <td>0.005077</td>\n",
              "    </tr>\n",
              "  </tbody>\n",
              "</table>\n",
              "</div>\n",
              "      <button class=\"colab-df-convert\" onclick=\"convertToInteractive('df-77fbf9dc-b424-40a4-b355-4507d44d0f37')\"\n",
              "              title=\"Convert this dataframe to an interactive table.\"\n",
              "              style=\"display:none;\">\n",
              "        \n",
              "  <svg xmlns=\"http://www.w3.org/2000/svg\" height=\"24px\"viewBox=\"0 0 24 24\"\n",
              "       width=\"24px\">\n",
              "    <path d=\"M0 0h24v24H0V0z\" fill=\"none\"/>\n",
              "    <path d=\"M18.56 5.44l.94 2.06.94-2.06 2.06-.94-2.06-.94-.94-2.06-.94 2.06-2.06.94zm-11 1L8.5 8.5l.94-2.06 2.06-.94-2.06-.94L8.5 2.5l-.94 2.06-2.06.94zm10 10l.94 2.06.94-2.06 2.06-.94-2.06-.94-.94-2.06-.94 2.06-2.06.94z\"/><path d=\"M17.41 7.96l-1.37-1.37c-.4-.4-.92-.59-1.43-.59-.52 0-1.04.2-1.43.59L10.3 9.45l-7.72 7.72c-.78.78-.78 2.05 0 2.83L4 21.41c.39.39.9.59 1.41.59.51 0 1.02-.2 1.41-.59l7.78-7.78 2.81-2.81c.8-.78.8-2.07 0-2.86zM5.41 20L4 18.59l7.72-7.72 1.47 1.35L5.41 20z\"/>\n",
              "  </svg>\n",
              "      </button>\n",
              "      \n",
              "  <style>\n",
              "    .colab-df-container {\n",
              "      display:flex;\n",
              "      flex-wrap:wrap;\n",
              "      gap: 12px;\n",
              "    }\n",
              "\n",
              "    .colab-df-convert {\n",
              "      background-color: #E8F0FE;\n",
              "      border: none;\n",
              "      border-radius: 50%;\n",
              "      cursor: pointer;\n",
              "      display: none;\n",
              "      fill: #1967D2;\n",
              "      height: 32px;\n",
              "      padding: 0 0 0 0;\n",
              "      width: 32px;\n",
              "    }\n",
              "\n",
              "    .colab-df-convert:hover {\n",
              "      background-color: #E2EBFA;\n",
              "      box-shadow: 0px 1px 2px rgba(60, 64, 67, 0.3), 0px 1px 3px 1px rgba(60, 64, 67, 0.15);\n",
              "      fill: #174EA6;\n",
              "    }\n",
              "\n",
              "    [theme=dark] .colab-df-convert {\n",
              "      background-color: #3B4455;\n",
              "      fill: #D2E3FC;\n",
              "    }\n",
              "\n",
              "    [theme=dark] .colab-df-convert:hover {\n",
              "      background-color: #434B5C;\n",
              "      box-shadow: 0px 1px 3px 1px rgba(0, 0, 0, 0.15);\n",
              "      filter: drop-shadow(0px 1px 2px rgba(0, 0, 0, 0.3));\n",
              "      fill: #FFFFFF;\n",
              "    }\n",
              "  </style>\n",
              "\n",
              "      <script>\n",
              "        const buttonEl =\n",
              "          document.querySelector('#df-77fbf9dc-b424-40a4-b355-4507d44d0f37 button.colab-df-convert');\n",
              "        buttonEl.style.display =\n",
              "          google.colab.kernel.accessAllowed ? 'block' : 'none';\n",
              "\n",
              "        async function convertToInteractive(key) {\n",
              "          const element = document.querySelector('#df-77fbf9dc-b424-40a4-b355-4507d44d0f37');\n",
              "          const dataTable =\n",
              "            await google.colab.kernel.invokeFunction('convertToInteractive',\n",
              "                                                     [key], {});\n",
              "          if (!dataTable) return;\n",
              "\n",
              "          const docLinkHtml = 'Like what you see? Visit the ' +\n",
              "            '<a target=\"_blank\" href=https://colab.research.google.com/notebooks/data_table.ipynb>data table notebook</a>'\n",
              "            + ' to learn more about interactive tables.';\n",
              "          element.innerHTML = '';\n",
              "          dataTable['output_type'] = 'display_data';\n",
              "          await google.colab.output.renderOutput(dataTable, element);\n",
              "          const docLink = document.createElement('div');\n",
              "          docLink.innerHTML = docLinkHtml;\n",
              "          element.appendChild(docLink);\n",
              "        }\n",
              "      </script>\n",
              "    </div>\n",
              "  </div>\n",
              "  "
            ]
          },
          "metadata": {},
          "execution_count": 437
        }
      ]
    },
    {
      "cell_type": "code",
      "source": [
        "# Mejores hiperparámetros por validación cruzada\n",
        "# ==============================================================================\n",
        "print(\"----------------------------------------\")\n",
        "print(\"Mejores hiperparámetros encontrados (cv)\")\n",
        "print(\"----------------------------------------\")\n",
        "print(grid.best_params_, \":\", grid.best_score_, grid.scoring)"
      ],
      "metadata": {
        "colab": {
          "base_uri": "https://localhost:8080/"
        },
        "id": "EkzlXJgtBa2R",
        "outputId": "f393a5a9-40a5-4f05-e7c7-aa6e18fa3b1d"
      },
      "execution_count": 438,
      "outputs": [
        {
          "output_type": "stream",
          "name": "stdout",
          "text": [
            "----------------------------------------\n",
            "Mejores hiperparámetros encontrados (cv)\n",
            "----------------------------------------\n",
            "{'criterion': 'entropy', 'max_depth': None, 'max_features': 11, 'n_estimators': 200} : 0.6440357490272374 accuracy\n"
          ]
        }
      ]
    },
    {
      "cell_type": "code",
      "source": [
        "modelo_final = grid.best_estimator_"
      ],
      "metadata": {
        "id": "ee6BUrejBvuW"
      },
      "execution_count": 439,
      "outputs": []
    },
    {
      "cell_type": "code",
      "source": [
        "# Error de test del modelo final\n",
        "# ==============================================================================\n",
        "y_pred = modelo_final.predict(X_test)"
      ],
      "metadata": {
        "id": "cLfi-YaaBxq1"
      },
      "execution_count": 440,
      "outputs": []
    },
    {
      "cell_type": "code",
      "source": [
        "# Crear matriz de confusión\n",
        "conf_mat = confusion_matrix(y_test, y_pred)\n",
        "\n",
        "# Crear figura y ejes\n",
        "fig, ax = plt.subplots(figsize=(6,4))\n",
        "\n",
        "# Crear mapa de calor de la matriz de confusión con Seaborn\n",
        "sns.heatmap(conf_mat\n",
        "            , annot=True  # agregar valores en cada celda\n",
        "            , fmt='d'    # formato de los valores (d = decimal)\n",
        "           )\n",
        "\n",
        "# Agregar etiquetas a los ejes x e y\n",
        "plt.ylabel('Actual')\n",
        "plt.xlabel('Predicted')\n",
        "\n",
        "# Mostrar la figura\n",
        "plt.show()\n",
        "\n",
        "# Se imprimen las medidas de rendimiento del modelo\n",
        "print(metrics.classification_report(y_test, y_pred))"
      ],
      "metadata": {
        "colab": {
          "base_uri": "https://localhost:8080/",
          "height": 548
        },
        "id": "E0-SrP8zCAIk",
        "outputId": "0fa7d32a-2a83-4873-d355-19b2498e9312"
      },
      "execution_count": 441,
      "outputs": [
        {
          "output_type": "display_data",
          "data": {
            "text/plain": [
              "<Figure size 600x400 with 2 Axes>"
            ],
            "image/png": "[encoded data removed]"
          },
          "metadata": {}
        },
        {
          "output_type": "stream",
          "name": "stdout",
          "text": [
            "              precision    recall  f1-score   support\n",
            "\n",
            "       black       0.61      0.64      0.62      2433\n",
            "       white       0.66      0.64      0.65      2692\n",
            "\n",
            "    accuracy                           0.64      5125\n",
            "   macro avg       0.64      0.64      0.64      5125\n",
            "weighted avg       0.64      0.64      0.64      5125\n",
            "\n"
          ]
        }
      ]
    }
  ]
}